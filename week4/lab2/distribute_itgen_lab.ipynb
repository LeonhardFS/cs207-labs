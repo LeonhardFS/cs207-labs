{
 "cells": [
  {
   "cell_type": "markdown",
   "metadata": {
    "collapsed": true
   },
   "source": [
    "## Q1.\n",
    "\n",
    "Add methods `__iter__` to your project Time Series class to iterate over values, a method `itertimes` to iterate over times, a method `itervalues` to iterate over values, and a method `iteritems` to iterate over time-value pairs. (This is a similar interface to python dictionaries). To test these, check both the types of the results and the answers you expect."
   ]
  },
  {
   "cell_type": "code",
   "execution_count": 36,
   "metadata": {
    "collapsed": true
   },
   "outputs": [],
   "source": [
    "# done in cs207project repo\n"
   ]
  },
  {
   "cell_type": "markdown",
   "metadata": {},
   "source": [
    "## Q2.\n",
    "\n",
    "An online mean and standard deviation algorithm.\n",
    "\n",
    "Below is a function to generate a potentially infinite stream of 1-D data."
   ]
  },
  {
   "cell_type": "code",
   "execution_count": 37,
   "metadata": {
    "collapsed": false
   },
   "outputs": [],
   "source": [
    "from random import normalvariate, random\n",
    "from itertools import count\n",
    "def make_data(m, stop=None):\n",
    "    for _ in count():\n",
    "        if stop and _ > stop:\n",
    "            break\n",
    "        yield 1.0e09 + normalvariate(0, m*random() )\n",
    "        "
   ]
  },
  {
   "cell_type": "markdown",
   "metadata": {},
   "source": [
    "Here is an implementation of an online mean algorithm..see http://www.johndcook.com/blog/standard_deviation/ and the link to http://www.johndcook.com/blog/2008/09/26/comparing-three-methods-of-computing-standard-deviation/ in-between. (Convince yourselves of the formulas...)"
   ]
  },
  {
   "cell_type": "code",
   "execution_count": 38,
   "metadata": {
    "collapsed": true
   },
   "outputs": [],
   "source": [
    "def online_mean(iterator):\n",
    "    n = 0\n",
    "    mu = 0\n",
    "    for value in iterator:\n",
    "        n += 1\n",
    "        delta = value - mu\n",
    "        mu = mu + delta/n\n",
    "        yield mu"
   ]
  },
  {
   "cell_type": "markdown",
   "metadata": {},
   "source": [
    "We use out generator functions to implement iterators:"
   ]
  },
  {
   "cell_type": "code",
   "execution_count": 39,
   "metadata": {
    "collapsed": false
   },
   "outputs": [
    {
     "data": {
      "text/plain": [
       "[999999997.730158,\n",
       " 999999998.9958848,\n",
       " 1000000001.8079658,\n",
       " 999999999.5824769,\n",
       " 999999999.6938463,\n",
       " 1000000001.5728308,\n",
       " 999999997.4811376,\n",
       " 1000000004.7623678,\n",
       " 1000000008.146267,\n",
       " 1000000000.3948588,\n",
       " 999999999.2613391]"
      ]
     },
     "execution_count": 39,
     "metadata": {},
     "output_type": "execute_result"
    }
   ],
   "source": [
    "g = make_data(5, 10)\n",
    "list(g)"
   ]
  },
  {
   "cell_type": "code",
   "execution_count": 40,
   "metadata": {
    "collapsed": false
   },
   "outputs": [
    {
     "name": "stdout",
     "output_type": "stream",
     "text": [
      "<class 'generator'>\n"
     ]
    },
    {
     "data": {
      "text/plain": [
       "[999999998.9834534,\n",
       " 999999999.3807309,\n",
       " 1000000001.1604174,\n",
       " 1000000001.5517755,\n",
       " 1000000000.4816217,\n",
       " 999999998.7852046,\n",
       " 999999998.3871565,\n",
       " 999999998.6936857,\n",
       " 999999998.54088,\n",
       " 999999998.5693561,\n",
       " 999999998.7344073,\n",
       " 999999998.9176939,\n",
       " 999999998.960564,\n",
       " 999999999.0153313,\n",
       " 999999999.0272496,\n",
       " 999999999.8509332,\n",
       " 999999999.9168798,\n",
       " 999999999.8170762,\n",
       " 999999999.6946275,\n",
       " 999999999.5316718,\n",
       " 999999999.4463699,\n",
       " 999999999.6252806,\n",
       " 999999999.699519,\n",
       " 999999999.6416403,\n",
       " 999999999.6101433,\n",
       " 999999999.6492956,\n",
       " 999999999.6079557,\n",
       " 999999999.6337146,\n",
       " 999999999.6039177,\n",
       " 999999999.3120049,\n",
       " 999999999.3946655,\n",
       " 999999999.3466591,\n",
       " 999999999.4649135,\n",
       " 999999999.4760742,\n",
       " 999999999.4752284,\n",
       " 999999999.534982,\n",
       " 999999999.5409931,\n",
       " 999999999.5684206,\n",
       " 999999999.4155502,\n",
       " 999999999.4007127,\n",
       " 999999999.4539622,\n",
       " 999999999.4551326,\n",
       " 999999999.4688388,\n",
       " 999999999.4852523,\n",
       " 999999999.5186437,\n",
       " 999999999.6642011,\n",
       " 999999999.6720303,\n",
       " 999999999.682789,\n",
       " 999999999.6711762,\n",
       " 999999999.769932,\n",
       " 999999999.7824272,\n",
       " 999999999.7877632,\n",
       " 999999999.7749594,\n",
       " 999999999.7417283,\n",
       " 999999999.6727817,\n",
       " 999999999.6561509,\n",
       " 999999999.6197628,\n",
       " 999999999.5720245,\n",
       " 999999999.5789613,\n",
       " 999999999.5912149,\n",
       " 999999999.6418087,\n",
       " 999999999.7462655,\n",
       " 999999999.7901863,\n",
       " 999999999.7944261,\n",
       " 999999999.8375219,\n",
       " 999999999.877154,\n",
       " 999999999.8829771,\n",
       " 999999999.9422399,\n",
       " 999999999.9334763,\n",
       " 999999999.9755331,\n",
       " 999999999.9945265,\n",
       " 999999999.9944276,\n",
       " 999999999.9901519,\n",
       " 999999999.9735987,\n",
       " 999999999.9777044,\n",
       " 1000000000.1457741,\n",
       " 1000000000.14069,\n",
       " 1000000000.0681052,\n",
       " 1000000000.0537615,\n",
       " 1000000000.0529839,\n",
       " 1000000000.0396409,\n",
       " 1000000000.0655369,\n",
       " 1000000000.0572306,\n",
       " 1000000000.0561029,\n",
       " 1000000000.0595874,\n",
       " 1000000000.0315888,\n",
       " 1000000000.0202422,\n",
       " 1000000000.0169812,\n",
       " 1000000000.0676789,\n",
       " 1000000000.0631903,\n",
       " 1000000000.0623442,\n",
       " 1000000000.0371497,\n",
       " 1000000000.0248375,\n",
       " 999999999.9849088,\n",
       " 1000000000.0142381,\n",
       " 1000000000.0149668,\n",
       " 1000000000.037523,\n",
       " 1000000000.0205954,\n",
       " 999999999.995042,\n",
       " 999999999.9884613,\n",
       " 1000000000.0128824]"
      ]
     },
     "execution_count": 40,
     "metadata": {},
     "output_type": "execute_result"
    }
   ],
   "source": [
    "g = online_mean(make_data(5, 100))\n",
    "print(type(g))\n",
    "list(g)"
   ]
  },
  {
   "cell_type": "markdown",
   "metadata": {},
   "source": [
    "### 2.1\n",
    "\n",
    "Implement the standard deviation algorithm as a generator function as\n",
    "\n",
    "```python\n",
    "def online_mean_dev(iterator):\n",
    "    BLA BLA\n",
    "    if n > 1:\n",
    "        stddev = math.sqrt(dev_accum/(n-1))\n",
    "        yield (n, value, mu, stddev)\n",
    "```"
   ]
  },
  {
   "cell_type": "code",
   "execution_count": 41,
   "metadata": {
    "collapsed": false
   },
   "outputs": [],
   "source": [
    "import math\n",
    "def online_mean_dev(iterator):\n",
    "    n = 1\n",
    "    value = next(iterator)\n",
    "    dev_accum = 0\n",
    "    mu = value\n",
    "    while True:\n",
    "        if n > 1:\n",
    "            stddev = math.sqrt(dev_accum / (n - 1))\n",
    "            yield (n, value, mu, stddev)\n",
    "        else:\n",
    "            stddev = 0\n",
    "            yield (n, value, mu, stddev)\n",
    "\n",
    "        # progress variance & mean\n",
    "        n = n + 1\n",
    "        value = next(iterator)\n",
    "        mu_old = mu\n",
    "        mu = mu + (value - mu) / n\n",
    "        dev_accum = dev_accum + (value - mu_old) * (value - mu)"
   ]
  },
  {
   "cell_type": "markdown",
   "metadata": {},
   "source": [
    "Here we make 100000 element data, and run this iterator on it (imagine running this on a time-series being slowly read from disk"
   ]
  },
  {
   "cell_type": "code",
   "execution_count": 42,
   "metadata": {
    "collapsed": false
   },
   "outputs": [],
   "source": [
    "data_with_stats = online_mean_dev(make_data(5, 100000))\n",
    "\n",
    "# for test purposes\n",
    "#data_with_stats = online_mean_dev(make_data(5, 10))\n",
    "#list(data_with_stats)"
   ]
  },
  {
   "cell_type": "markdown",
   "metadata": {},
   "source": [
    "## Q3.\n",
    "\n",
    "Let's do Anomaly detection. Write a routine `is_ok`:\n",
    "\n",
    "```python\n",
    "def is_ok(level, t)\n",
    "```\n",
    "\n",
    "which takes a tuple like the one yielded by your code above and returns True if the value is inbetween `level`-$\\sigma$ of the mean."
   ]
  },
  {
   "cell_type": "code",
   "execution_count": 43,
   "metadata": {
    "collapsed": true
   },
   "outputs": [],
   "source": [
    "#your code here\n",
    "def is_ok(level, t):\n",
    "    return t[2] - level * t[3] < t[1] and t[1] < t[2] + level * t[3]"
   ]
  },
  {
   "cell_type": "markdown",
   "metadata": {},
   "source": [
    "We use this function to create a predicate passed through to `itertools.filterfalse` which is then used to obtain an iterator on the anomalies."
   ]
  },
  {
   "cell_type": "code",
   "execution_count": 44,
   "metadata": {
    "collapsed": true
   },
   "outputs": [],
   "source": [
    "from itertools import filterfalse\n",
    "pred = lambda t: is_ok(5, t)\n",
    "anomalies = filterfalse(pred, data_with_stats)"
   ]
  },
  {
   "cell_type": "markdown",
   "metadata": {},
   "source": [
    "We materialize the anomalies..."
   ]
  },
  {
   "cell_type": "code",
   "execution_count": 45,
   "metadata": {
    "collapsed": false
   },
   "outputs": [
    {
     "data": {
      "text/plain": [
       "[(1, 999999997.9096532, 999999997.9096532, 0),\n",
       " (1962, 999999984.3391823, 999999999.9753909, 2.720234302630168),\n",
       " (5935, 999999985.6089971, 1000000000.0444479, 2.832036563298437),\n",
       " (7475, 1000000018.4895133, 1000000000.0126005, 2.8356922857835936),\n",
       " (7686, 999999984.1703161, 1000000000.0002867, 2.842863346405057),\n",
       " (8779, 1000000014.8020021, 999999999.9969289, 2.8455561435400374),\n",
       " (12767, 1000000014.4882789, 999999999.9889926, 2.855348476306259),\n",
       " (22310, 1000000014.8633506, 999999999.9813097, 2.863749815026283),\n",
       " (23785, 999999984.8625108, 999999999.9858068, 2.8692910278375514),\n",
       " (25490, 1000000018.0251814, 999999999.9897361, 2.871823207626829),\n",
       " (25829, 999999984.1552175, 999999999.9861963, 2.873551193509647),\n",
       " (27753, 1000000015.9843408, 999999999.984603, 2.877108478128618),\n",
       " (29650, 1000000014.5793669, 999999999.9875549, 2.878720624720557),\n",
       " (32385, 1000000015.0052277, 999999999.9872433, 2.884341314103084),\n",
       " (33662, 1000000015.5476899, 999999999.9872378, 2.8846696185366643),\n",
       " (34325, 1000000014.5236617, 999999999.984468, 2.8862223510143434),\n",
       " (35637, 1000000014.7982265, 999999999.9789895, 2.883863488539415),\n",
       " (35973, 1000000015.0675215, 999999999.981631, 2.886556432053764),\n",
       " (43279, 1000000014.425993, 999999999.9864291, 2.8780768864375017),\n",
       " (46578, 1000000014.7133774, 999999999.9900545, 2.875549493988774),\n",
       " (54125, 999999984.2479888, 999999999.9814781, 2.871745064123306),\n",
       " (54855, 999999985.2772017, 999999999.9797081, 2.8744973091290253),\n",
       " (55111, 999999985.3662556, 999999999.978345, 2.8751950102820865),\n",
       " (55691, 999999985.4938362, 999999999.9766095, 2.8759225298681574),\n",
       " (58013, 999999984.2647753, 999999999.9808497, 2.8825268046892187),\n",
       " (62055, 999999985.0596502, 999999999.982308, 2.8787494629285315),\n",
       " (62586, 999999985.3147153, 999999999.9824657, 2.879716408565855),\n",
       " (63270, 1000000015.6712133, 999999999.9847795, 2.8812502094927597),\n",
       " (67393, 1000000016.079097, 999999999.9876585, 2.880621337340958),\n",
       " (69079, 1000000014.6530358, 999999999.9884477, 2.88213311897622),\n",
       " (70710, 1000000015.8667898, 999999999.9900768, 2.882214314054034),\n",
       " (71464, 999999984.0533549, 999999999.9900246, 2.8835635553983003),\n",
       " (71744, 1000000014.4753952, 999999999.9894248, 2.884476855324136),\n",
       " (72017, 1000000014.8488605, 999999999.9914447, 2.885235339070591),\n",
       " (72086, 1000000014.8250757, 999999999.9913514, 2.885735558584486),\n",
       " (75497, 999999981.5767573, 999999999.9910723, 2.8823997692773546),\n",
       " (80552, 1000000016.7358785, 999999999.9952679, 2.881995223780373),\n",
       " (80555, 999999985.3455453, 999999999.995061, 2.8824114237569085),\n",
       " (83616, 1000000014.4478219, 999999999.9943208, 2.882204466043416),\n",
       " (88148, 999999983.6954677, 999999999.9961752, 2.885025833496854),\n",
       " (89646, 1000000015.8261456, 999999999.9971193, 2.88639915798481),\n",
       " (95170, 1000000015.6389183, 999999999.9996171, 2.886862745594347),\n",
       " (98797, 1000000016.6598262, 1000000000.000875, 2.8841785503710837)]"
      ]
     },
     "execution_count": 45,
     "metadata": {},
     "output_type": "execute_result"
    }
   ],
   "source": [
    "list(anomalies)#materialize"
   ]
  },
  {
   "cell_type": "markdown",
   "metadata": {},
   "source": [
    "## To think of, but not hand in\n",
    "\n",
    "What kinds of anomalies will this algorithm pick up? What kinds would a shorter \"window\" of anomaly detection, like 100 points around the time in question pick? How might you create an algorithm which does window based averaging? (hint: the window size is small compared to the time series size). \n",
    "\n",
    "Finally think a bit of how you might implement all of this in a production environment..remember that data streaming in might get backed up when you handle an anomaly.\n",
    "\n",
    "(Some inspiration might accrue if you look at the docs for `collections.deque`)."
   ]
  },
  {
   "cell_type": "code",
   "execution_count": null,
   "metadata": {
    "collapsed": true
   },
   "outputs": [],
   "source": []
  }
 ],
 "metadata": {
  "kernelspec": {
   "display_name": "Python 3",
   "language": "python",
   "name": "python3"
  },
  "language_info": {
   "codemirror_mode": {
    "name": "ipython",
    "version": 3
   },
   "file_extension": ".py",
   "mimetype": "text/x-python",
   "name": "python",
   "nbconvert_exporter": "python",
   "pygments_lexer": "ipython3",
   "version": "3.5.1"
  }
 },
 "nbformat": 4,
 "nbformat_minor": 0
}
